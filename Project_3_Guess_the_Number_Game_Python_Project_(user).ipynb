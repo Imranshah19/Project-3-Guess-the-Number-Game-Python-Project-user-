{
  "nbformat": 4,
  "nbformat_minor": 0,
  "metadata": {
    "colab": {
      "provenance": [],
      "authorship_tag": "ABX9TyMcpDDN1ggKtkXUZyxGJHrt",
      "include_colab_link": true
    },
    "kernelspec": {
      "name": "python3",
      "display_name": "Python 3"
    },
    "language_info": {
      "name": "python"
    }
  },
  "cells": [
    {
      "cell_type": "markdown",
      "metadata": {
        "id": "view-in-github",
        "colab_type": "text"
      },
      "source": [
        "<a href=\"https://colab.research.google.com/github/Imranshah19/Project-3-Guess-the-Number-Game-Python-Project-user-/blob/main/Project_3_Guess_the_Number_Game_Python_Project_(user).ipynb\" target=\"_parent\"><img src=\"https://colab.research.google.com/assets/colab-badge.svg\" alt=\"Open In Colab\"/></a>"
      ]
    },
    {
      "cell_type": "code",
      "execution_count": null,
      "metadata": {
        "colab": {
          "base_uri": "https://localhost:8080/"
        },
        "id": "epq8rukvTvel",
        "outputId": "65966bca-d427-4ad3-a93d-ea9a935b2790"
      },
      "outputs": [
        {
          "output_type": "stream",
          "name": "stdout",
          "text": [
            "🎯 Welcome to the Guess the Number Game! 🎯\n"
          ]
        }
      ],
      "source": [
        "import random\n",
        "\n",
        "def guess_the_number():\n",
        "    print(\"🎯 Welcome to the Guess the Number Game! 🎯\")\n",
        "\n",
        "    # Difficulty Levels\n",
        "    levels = {\n",
        "        \"easy\": 10,    # 10 Attempts\n",
        "        \"medium\": 7,   # 7 Attempts\n",
        "        \"hard\": 5      # 5 Attempts\n",
        "    }\n",
        "\n",
        "    # User chooses difficulty\n",
        "    while True:\n",
        "        difficulty = input(\"Choose difficulty (Easy, Medium, Hard): \").lower()\n",
        "        if difficulty in levels:\n",
        "            attempts = levels[difficulty]\n",
        "            break\n",
        "        else:\n",
        "            print(\"Invalid choice! Please enter Easy, Medium, or Hard.\")\n",
        "\n",
        "    # Random number selection\n",
        "    secret_number = random.randint(1, 100)\n",
        "    print(f\"\\nI have selected a number between 1 and 100. You have {attempts} attempts to guess it!\")\n",
        "\n",
        "    # Game loop\n",
        "    for attempt in range(1, attempts + 1):\n",
        "        while True:\n",
        "            try:\n",
        "                guess = int(input(f\"\\nAttempt {attempt}/{attempts} - Enter your guess: \"))\n",
        "                break\n",
        "            except ValueError:\n",
        "                print(\"Invalid input! Please enter a valid number.\")\n",
        "\n",
        "        # Checking the guess\n",
        "        if guess == secret_number:\n",
        "            print(f\"\\n🎉 Congratulations! You guessed the correct number {secret_number} in {attempt} attempts! 🎉\")\n",
        "            break\n",
        "        elif guess < secret_number:\n",
        "            print(\"🔼 Too low! Try a higher number.\")\n",
        "        else:\n",
        "            print(\"🔽 Too high! Try a lower number.\")\n",
        "\n",
        "    else:\n",
        "        print(f\"\\n❌ Game Over! The correct number was {secret_number}. Better luck next time!\")\n",
        "\n",
        "# Run the game\n",
        "guess_the_number()\n"
      ]
    }
  ]
}